{
 "cells": [
  {
   "cell_type": "markdown",
   "metadata": {},
   "source": [
    "Basing this off of the ESG tutorial from ESGBERT"
   ]
  },
  {
   "cell_type": "code",
   "execution_count": 1,
   "metadata": {},
   "outputs": [
    {
     "name": "stdout",
     "output_type": "stream",
     "text": [
      "Requirement already satisfied: transformers in /Users/benjamin.williams/Library/CloudStorage/OneDrive-UniversityofDenver/Research/edgar-nlp/.venv/lib/python3.9/site-packages (4.46.0)\n",
      "Requirement already satisfied: filelock in /Users/benjamin.williams/Library/CloudStorage/OneDrive-UniversityofDenver/Research/edgar-nlp/.venv/lib/python3.9/site-packages (from transformers) (3.16.1)\n",
      "Requirement already satisfied: huggingface-hub<1.0,>=0.23.2 in /Users/benjamin.williams/Library/CloudStorage/OneDrive-UniversityofDenver/Research/edgar-nlp/.venv/lib/python3.9/site-packages (from transformers) (0.26.2)\n",
      "Requirement already satisfied: numpy>=1.17 in /Users/benjamin.williams/Library/CloudStorage/OneDrive-UniversityofDenver/Research/edgar-nlp/.venv/lib/python3.9/site-packages (from transformers) (2.0.2)\n",
      "Requirement already satisfied: packaging>=20.0 in /Users/benjamin.williams/Library/CloudStorage/OneDrive-UniversityofDenver/Research/edgar-nlp/.venv/lib/python3.9/site-packages (from transformers) (24.1)\n",
      "Requirement already satisfied: pyyaml>=5.1 in /Users/benjamin.williams/Library/CloudStorage/OneDrive-UniversityofDenver/Research/edgar-nlp/.venv/lib/python3.9/site-packages (from transformers) (6.0.2)\n",
      "Requirement already satisfied: regex!=2019.12.17 in /Users/benjamin.williams/Library/CloudStorage/OneDrive-UniversityofDenver/Research/edgar-nlp/.venv/lib/python3.9/site-packages (from transformers) (2024.9.11)\n",
      "Requirement already satisfied: requests in /Users/benjamin.williams/Library/CloudStorage/OneDrive-UniversityofDenver/Research/edgar-nlp/.venv/lib/python3.9/site-packages (from transformers) (2.32.3)\n",
      "Requirement already satisfied: safetensors>=0.4.1 in /Users/benjamin.williams/Library/CloudStorage/OneDrive-UniversityofDenver/Research/edgar-nlp/.venv/lib/python3.9/site-packages (from transformers) (0.4.5)\n",
      "Requirement already satisfied: tokenizers<0.21,>=0.20 in /Users/benjamin.williams/Library/CloudStorage/OneDrive-UniversityofDenver/Research/edgar-nlp/.venv/lib/python3.9/site-packages (from transformers) (0.20.1)\n",
      "Requirement already satisfied: tqdm>=4.27 in /Users/benjamin.williams/Library/CloudStorage/OneDrive-UniversityofDenver/Research/edgar-nlp/.venv/lib/python3.9/site-packages (from transformers) (4.66.6)\n",
      "Requirement already satisfied: fsspec>=2023.5.0 in /Users/benjamin.williams/Library/CloudStorage/OneDrive-UniversityofDenver/Research/edgar-nlp/.venv/lib/python3.9/site-packages (from huggingface-hub<1.0,>=0.23.2->transformers) (2024.10.0)\n",
      "Requirement already satisfied: typing-extensions>=3.7.4.3 in /Users/benjamin.williams/Library/CloudStorage/OneDrive-UniversityofDenver/Research/edgar-nlp/.venv/lib/python3.9/site-packages (from huggingface-hub<1.0,>=0.23.2->transformers) (4.12.2)\n",
      "Requirement already satisfied: charset-normalizer<4,>=2 in /Users/benjamin.williams/Library/CloudStorage/OneDrive-UniversityofDenver/Research/edgar-nlp/.venv/lib/python3.9/site-packages (from requests->transformers) (3.4.0)\n",
      "Requirement already satisfied: idna<4,>=2.5 in /Users/benjamin.williams/Library/CloudStorage/OneDrive-UniversityofDenver/Research/edgar-nlp/.venv/lib/python3.9/site-packages (from requests->transformers) (3.10)\n",
      "Requirement already satisfied: urllib3<3,>=1.21.1 in /Users/benjamin.williams/Library/CloudStorage/OneDrive-UniversityofDenver/Research/edgar-nlp/.venv/lib/python3.9/site-packages (from requests->transformers) (2.2.3)\n",
      "Requirement already satisfied: certifi>=2017.4.17 in /Users/benjamin.williams/Library/CloudStorage/OneDrive-UniversityofDenver/Research/edgar-nlp/.venv/lib/python3.9/site-packages (from requests->transformers) (2024.8.30)\n",
      "Requirement already satisfied: tika in /Users/benjamin.williams/Library/CloudStorage/OneDrive-UniversityofDenver/Research/edgar-nlp/.venv/lib/python3.9/site-packages (2.6.0)\n",
      "Requirement already satisfied: setuptools in /Users/benjamin.williams/Library/CloudStorage/OneDrive-UniversityofDenver/Research/edgar-nlp/.venv/lib/python3.9/site-packages (from tika) (58.0.4)\n",
      "Requirement already satisfied: requests in /Users/benjamin.williams/Library/CloudStorage/OneDrive-UniversityofDenver/Research/edgar-nlp/.venv/lib/python3.9/site-packages (from tika) (2.32.3)\n",
      "Requirement already satisfied: charset-normalizer<4,>=2 in /Users/benjamin.williams/Library/CloudStorage/OneDrive-UniversityofDenver/Research/edgar-nlp/.venv/lib/python3.9/site-packages (from requests->tika) (3.4.0)\n",
      "Requirement already satisfied: idna<4,>=2.5 in /Users/benjamin.williams/Library/CloudStorage/OneDrive-UniversityofDenver/Research/edgar-nlp/.venv/lib/python3.9/site-packages (from requests->tika) (3.10)\n",
      "Requirement already satisfied: urllib3<3,>=1.21.1 in /Users/benjamin.williams/Library/CloudStorage/OneDrive-UniversityofDenver/Research/edgar-nlp/.venv/lib/python3.9/site-packages (from requests->tika) (2.2.3)\n",
      "Requirement already satisfied: certifi>=2017.4.17 in /Users/benjamin.williams/Library/CloudStorage/OneDrive-UniversityofDenver/Research/edgar-nlp/.venv/lib/python3.9/site-packages (from requests->tika) (2024.8.30)\n"
     ]
    }
   ],
   "source": [
    "!pip install transformers\n",
    "!pip install tika\n"
   ]
  },
  {
   "cell_type": "code",
   "execution_count": 2,
   "metadata": {},
   "outputs": [
    {
     "name": "stdout",
     "output_type": "stream",
     "text": [
      "Requirement already satisfied: pandas in /Users/benjamin.williams/Library/CloudStorage/OneDrive-UniversityofDenver/Research/edgar-nlp/.venv/lib/python3.9/site-packages (2.2.3)\n",
      "Requirement already satisfied: numpy>=1.22.4 in /Users/benjamin.williams/Library/CloudStorage/OneDrive-UniversityofDenver/Research/edgar-nlp/.venv/lib/python3.9/site-packages (from pandas) (2.0.2)\n",
      "Requirement already satisfied: python-dateutil>=2.8.2 in /Users/benjamin.williams/Library/CloudStorage/OneDrive-UniversityofDenver/Research/edgar-nlp/.venv/lib/python3.9/site-packages (from pandas) (2.9.0.post0)\n",
      "Requirement already satisfied: pytz>=2020.1 in /Users/benjamin.williams/Library/CloudStorage/OneDrive-UniversityofDenver/Research/edgar-nlp/.venv/lib/python3.9/site-packages (from pandas) (2024.2)\n",
      "Requirement already satisfied: tzdata>=2022.7 in /Users/benjamin.williams/Library/CloudStorage/OneDrive-UniversityofDenver/Research/edgar-nlp/.venv/lib/python3.9/site-packages (from pandas) (2024.2)\n",
      "Requirement already satisfied: six>=1.5 in /Users/benjamin.williams/Library/CloudStorage/OneDrive-UniversityofDenver/Research/edgar-nlp/.venv/lib/python3.9/site-packages (from python-dateutil>=2.8.2->pandas) (1.16.0)\n",
      "Requirement already satisfied: matplotlib in /Users/benjamin.williams/Library/CloudStorage/OneDrive-UniversityofDenver/Research/edgar-nlp/.venv/lib/python3.9/site-packages (3.9.2)\n",
      "Requirement already satisfied: contourpy>=1.0.1 in /Users/benjamin.williams/Library/CloudStorage/OneDrive-UniversityofDenver/Research/edgar-nlp/.venv/lib/python3.9/site-packages (from matplotlib) (1.3.0)\n",
      "Requirement already satisfied: cycler>=0.10 in /Users/benjamin.williams/Library/CloudStorage/OneDrive-UniversityofDenver/Research/edgar-nlp/.venv/lib/python3.9/site-packages (from matplotlib) (0.12.1)\n",
      "Requirement already satisfied: fonttools>=4.22.0 in /Users/benjamin.williams/Library/CloudStorage/OneDrive-UniversityofDenver/Research/edgar-nlp/.venv/lib/python3.9/site-packages (from matplotlib) (4.54.1)\n",
      "Requirement already satisfied: kiwisolver>=1.3.1 in /Users/benjamin.williams/Library/CloudStorage/OneDrive-UniversityofDenver/Research/edgar-nlp/.venv/lib/python3.9/site-packages (from matplotlib) (1.4.7)\n",
      "Requirement already satisfied: numpy>=1.23 in /Users/benjamin.williams/Library/CloudStorage/OneDrive-UniversityofDenver/Research/edgar-nlp/.venv/lib/python3.9/site-packages (from matplotlib) (2.0.2)\n",
      "Requirement already satisfied: packaging>=20.0 in /Users/benjamin.williams/Library/CloudStorage/OneDrive-UniversityofDenver/Research/edgar-nlp/.venv/lib/python3.9/site-packages (from matplotlib) (24.1)\n",
      "Requirement already satisfied: pillow>=8 in /Users/benjamin.williams/Library/CloudStorage/OneDrive-UniversityofDenver/Research/edgar-nlp/.venv/lib/python3.9/site-packages (from matplotlib) (11.0.0)\n",
      "Requirement already satisfied: pyparsing>=2.3.1 in /Users/benjamin.williams/Library/CloudStorage/OneDrive-UniversityofDenver/Research/edgar-nlp/.venv/lib/python3.9/site-packages (from matplotlib) (3.2.0)\n",
      "Requirement already satisfied: python-dateutil>=2.7 in /Users/benjamin.williams/Library/CloudStorage/OneDrive-UniversityofDenver/Research/edgar-nlp/.venv/lib/python3.9/site-packages (from matplotlib) (2.9.0.post0)\n",
      "Requirement already satisfied: importlib-resources>=3.2.0 in /Users/benjamin.williams/Library/CloudStorage/OneDrive-UniversityofDenver/Research/edgar-nlp/.venv/lib/python3.9/site-packages (from matplotlib) (6.4.5)\n",
      "Requirement already satisfied: zipp>=3.1.0 in /Users/benjamin.williams/Library/CloudStorage/OneDrive-UniversityofDenver/Research/edgar-nlp/.venv/lib/python3.9/site-packages (from importlib-resources>=3.2.0->matplotlib) (3.20.2)\n",
      "Requirement already satisfied: six>=1.5 in /Users/benjamin.williams/Library/CloudStorage/OneDrive-UniversityofDenver/Research/edgar-nlp/.venv/lib/python3.9/site-packages (from python-dateutil>=2.7->matplotlib) (1.16.0)\n"
     ]
    },
    {
     "name": "stderr",
     "output_type": "stream",
     "text": [
      "/Users/benjamin.williams/Library/CloudStorage/OneDrive-UniversityofDenver/Research/edgar-nlp/.venv/lib/python3.9/site-packages/urllib3/__init__.py:35: NotOpenSSLWarning: urllib3 v2 only supports OpenSSL 1.1.1+, currently the 'ssl' module is compiled with 'LibreSSL 2.8.3'. See: https://github.com/urllib3/urllib3/issues/3020\n",
      "  warnings.warn(\n",
      "/Users/benjamin.williams/Library/CloudStorage/OneDrive-UniversityofDenver/Research/edgar-nlp/.venv/lib/python3.9/site-packages/tqdm/auto.py:21: TqdmWarning: IProgress not found. Please update jupyter and ipywidgets. See https://ipywidgets.readthedocs.io/en/stable/user_install.html\n",
      "  from .autonotebook import tqdm as notebook_tqdm\n"
     ]
    }
   ],
   "source": [
    "!pip install pandas \n",
    "!pip install matplotlib\n",
    "import pandas as pd\n",
    "import numpy as np\n",
    "import matplotlib.pyplot as plt\n",
    "\n",
    "from transformers import AutoModelForSequenceClassification, AutoTokenizer, pipeline # for using the models\n",
    "\n",
    "#import spacy # for sentence extraction\n",
    "from tika import parser # for the report extraction"
   ]
  },
  {
   "cell_type": "markdown",
   "metadata": {},
   "source": [
    "This loads in the 3 models"
   ]
  },
  {
   "cell_type": "code",
   "execution_count": 3,
   "metadata": {},
   "outputs": [
    {
     "name": "stderr",
     "output_type": "stream",
     "text": [
      "Hardware accelerator e.g. GPU is available in the environment, but no `device` argument is passed to the `Pipeline` object. Model will be on CPU.\n",
      "Hardware accelerator e.g. GPU is available in the environment, but no `device` argument is passed to the `Pipeline` object. Model will be on CPU.\n",
      "Hardware accelerator e.g. GPU is available in the environment, but no `device` argument is passed to the `Pipeline` object. Model will be on CPU.\n"
     ]
    }
   ],
   "source": [
    "### Load the models (takes ca. 1 min)\n",
    "# Environmental model.\n",
    "name = \"ESGBERT/EnvironmentalBERT-environmental\" # path to download from HuggingFace\n",
    "# In simple words, the tokenizer prepares the text for the model and the model classifies the text-\n",
    "tokenizer = AutoTokenizer.from_pretrained(name)\n",
    "model = AutoModelForSequenceClassification.from_pretrained(name)\n",
    "# The pipeline combines tokenizer and model to one process.\n",
    "pipe_env = pipeline(\"text-classification\", model=model, tokenizer=tokenizer)\n",
    "\n",
    "# Also load the social and governance model.\n",
    "# Social model.\n",
    "name = \"ESGBERT/SocialBERT-social\"\n",
    "tokenizer = AutoTokenizer.from_pretrained(name)\n",
    "model = AutoModelForSequenceClassification.from_pretrained(name)\n",
    "pipe_soc = pipeline(\"text-classification\", model=model, tokenizer=tokenizer)\n",
    "\n",
    "# Governance model.\n",
    "name = \"ESGBERT/GovernanceBERT-governance\"\n",
    "tokenizer = AutoTokenizer.from_pretrained(name)\n",
    "model = AutoModelForSequenceClassification.from_pretrained(name)\n",
    "pipe_gov = pipeline(\"text-classification\", model=model, tokenizer=tokenizer)"
   ]
  },
  {
   "cell_type": "markdown",
   "metadata": {},
   "source": [
    "OK, try a test here"
   ]
  },
  {
   "cell_type": "code",
   "execution_count": 4,
   "metadata": {},
   "outputs": [
    {
     "name": "stdout",
     "output_type": "stream",
     "text": [
      "[{'label': 'environmental', 'score': 0.994878888130188}, {'label': 'environmental', 'score': 0.9979760050773621}, {'label': 'none', 'score': 0.997612714767456}]\n"
     ]
    }
   ],
   "source": [
    "# You can input single sentences or arrays of sentences into the pipeline,\n",
    "sentences_test = [\"Besides financial considerations, we also consider harms to the biodiversity and broader ecosystem impacts.\",\n",
    "                  \"Scope 1 emissions are reported here on a like-for-like basis against the 2013 baseline and exclude emissions from additional vehicles used during repairs.\",\n",
    "                  \"Tokenization is used in natural language processing to split paragraphs and sentences into smaller units that can be more easily assigned meaning.\"]\n",
    "test = pipe_env(sentences_test)\n",
    "print(test)"
   ]
  },
  {
   "cell_type": "markdown",
   "metadata": {},
   "source": [
    "Now, run with my data, this data is already tokenized at the sentence level"
   ]
  },
  {
   "cell_type": "code",
   "execution_count": 25,
   "metadata": {},
   "outputs": [
    {
     "name": "stdout",
     "output_type": "stream",
     "text": [
      "311828\n",
      "<class 'list'>\n"
     ]
    }
   ],
   "source": [
    "file_path = '/Users/benjamin.williams/Library/CloudStorage/OneDrive-UniversityofDenver/Research/edgar-nlp/data_token.csv'\n",
    "\n",
    "# Read the CSV into a DataFrame\n",
    "df = pd.read_csv(file_path)\n",
    "\n",
    "sentence_list = df['sentence'].tolist()\n",
    "\n",
    "# Display the first few elements to verify\n",
    "print(len(sentence_list))\n",
    "print(type(sentence_list))\n"
   ]
  },
  {
   "cell_type": "markdown",
   "metadata": {},
   "source": [
    "When I tried to run the model on the `sentence_list` data it threw an error, so the next code block makes sure its a string-list"
   ]
  },
  {
   "cell_type": "code",
   "execution_count": 26,
   "metadata": {},
   "outputs": [
    {
     "name": "stdout",
     "output_type": "stream",
     "text": [
      "<class 'list'>\n"
     ]
    }
   ],
   "source": [
    "str_list = [str(item) for item in sentence_list]\n",
    "print(type(str_list))"
   ]
  },
  {
   "cell_type": "markdown",
   "metadata": {},
   "source": [
    "So now use `str_list` in the model"
   ]
  },
  {
   "cell_type": "code",
   "execution_count": 27,
   "metadata": {},
   "outputs": [],
   "source": [
    "env_test = pipe_env(str_list, padding=True, truncation=True)\n",
    "\n",
    "# You might only want the labels.\n",
    "env_labels_t = [x[\"label\"] for x in env_test]\n"
   ]
  },
  {
   "cell_type": "markdown",
   "metadata": {},
   "source": [
    "Now make a dataframe with sentence, label, and score"
   ]
  },
  {
   "cell_type": "code",
   "execution_count": 37,
   "metadata": {},
   "outputs": [
    {
     "name": "stdout",
     "output_type": "stream",
     "text": [
      "                                                 sentence  environmental  \\\n",
      "0          a clear vision     2023 sustainabilit y report  environmental   \n",
      "1       table of contents  a letter from executive man...           none   \n",
      "2       1   company profile..............................           none   \n",
      "3       6   vision and progress..........................           none   \n",
      "4       16   key performance indicators (kpis)...........           none   \n",
      "...                                                   ...            ...   \n",
      "311823  moreover, non-financial information, such as t...           none   \n",
      "311824  historical, current, and forward-looking envir...  environmental   \n",
      "311825  in addition, while we may seek to align these ...           none   \n",
      "311826  moreover, our disclosures based on such framew...           none   \n",
      "311827          park hyatt aviara resort, golf club & spa           none   \n",
      "\n",
      "           score  \n",
      "0       0.958016  \n",
      "1       0.996945  \n",
      "2       0.997617  \n",
      "3       0.993834  \n",
      "4       0.997784  \n",
      "...          ...  \n",
      "311823  0.998081  \n",
      "311824  0.990463  \n",
      "311825  0.993780  \n",
      "311826  0.996870  \n",
      "311827  0.994151  \n",
      "\n",
      "[311828 rows x 3 columns]\n"
     ]
    }
   ],
   "source": [
    "env_score_t = [x[\"score\"] for x in env_test]\n",
    "data_env = pd.DataFrame({\"sentence\": str_list, \"environmental\": env_labels_t,\"score\": env_score_t})\n",
    "print(data_env)"
   ]
  },
  {
   "cell_type": "markdown",
   "metadata": {},
   "source": [
    "Worked, so now save it off as a csv for analysis in R"
   ]
  },
  {
   "cell_type": "code",
   "execution_count": 38,
   "metadata": {},
   "outputs": [],
   "source": [
    "data_env.to_csv('/Users/benjamin.williams/Library/CloudStorage/OneDrive-UniversityofDenver/Research/edgar-nlp/esg_hugging_face/esg_env_labels.csv', index=False)"
   ]
  }
 ],
 "metadata": {
  "kernelspec": {
   "display_name": ".venv",
   "language": "python",
   "name": "python3"
  },
  "language_info": {
   "codemirror_mode": {
    "name": "ipython",
    "version": 3
   },
   "file_extension": ".py",
   "mimetype": "text/x-python",
   "name": "python",
   "nbconvert_exporter": "python",
   "pygments_lexer": "ipython3",
   "version": "3.9.6"
  }
 },
 "nbformat": 4,
 "nbformat_minor": 2
}
